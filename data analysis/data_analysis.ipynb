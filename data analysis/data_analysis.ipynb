{
 "cells": [
  {
   "cell_type": "code",
   "execution_count": 1,
   "metadata": {},
   "outputs": [],
   "source": [
    "import pandas as pd\n",
    "import numpy as np"
   ]
  },
  {
   "cell_type": "markdown",
   "metadata": {},
   "source": [
    "Json Data"
   ]
  },
  {
   "cell_type": "code",
   "execution_count": 73,
   "metadata": {},
   "outputs": [],
   "source": [
    "import nltk\n",
    "from nltk.corpus import stopwords\n",
    "stop_word = stopwords.words('english')\n",
    "from cleantext import clean\n",
    "import re\n",
    "from bs4 import BeautifulSoup\n",
    "\n",
    "def textCleaning(text):      \n",
    "                            \n",
    "        #     bs4\n",
    "        soup = BeautifulSoup(text, 'lxml')\n",
    "        text = soup.text\n",
    "        #     remove urls\n",
    "        text = re.sub(r'http\\S+', \" \", text)\n",
    "\n",
    "        #     remove mentions\n",
    "        text = re.sub(r'@\\w+',' ',text)\n",
    "\n",
    "        #     remove hastags\n",
    "        text = re.sub(r'#\\w+', ' ', text)\n",
    "        \n",
    "        # take alphanumerical\n",
    "        text = re.sub(r'\\W+', ' ', text)\n",
    "\n",
    "        #     remove digits\n",
    "        text = re.sub(r'\\d+', ' ', text)\n",
    "\n",
    "        #     remove html tags\n",
    "        text = re.sub('r<.*?>',' ', text)\n",
    "        \n",
    "        #     remove stop words \n",
    "        text = text.split()\n",
    "        text = \" \".join([word for word in text if not word in stop_word])    \n",
    "        \n",
    "        return text"
   ]
  },
  {
   "cell_type": "code",
   "execution_count": 47,
   "metadata": {},
   "outputs": [],
   "source": [
    "import json\n",
    "def read_data(path):\n",
    "    \n",
    "    f = open(path)\n",
    "    data = json.load(f)\n",
    "    li_title = []\n",
    "    li_desc = []\n",
    "    li_query = []\n",
    "    for i in range(len(data['jobs'])):\n",
    "        li_title.append(data['jobs'][i]['job_title_by_google'])\n",
    "        li_desc.append(data['jobs'][i]['desc'])\n",
    "        li_query.append(data['jobs'][i]['search_query'])\n",
    "    df = pd.DataFrame(\n",
    "        {\n",
    "        'job_roles' : li_query, 'desc' : li_desc, 'title': li_title\n",
    "        }\n",
    "    )\n",
    "    df = df[df['desc'] !='No Information Found']\n",
    "    return df"
   ]
  },
  {
   "cell_type": "code",
   "execution_count": 48,
   "metadata": {},
   "outputs": [],
   "source": [
    "def extract_job(data):\n",
    "  category = 'jobs'\n",
    "  index = data.find(category)\n",
    "  return data[:index].strip()"
   ]
  },
  {
   "cell_type": "code",
   "execution_count": 49,
   "metadata": {},
   "outputs": [],
   "source": [
    "def check_duplicates_in_job_role(df):\n",
    "    for i in df['job_roles'].unique():\n",
    "        total = df['desc'][df['job_roles']==i].count()\n",
    "        duplicated = df['desc'][df['job_roles']==i].duplicated().sum()\n",
    "        val_40 = int(0.4 * total)\n",
    "        if duplicated >= val_40 and duplicated > 0:\n",
    "            print(f'Job role : {i} has more than 40% duplicate values, total : {total}, duplicated : {duplicated} ')"
   ]
  },
  {
   "cell_type": "code",
   "execution_count": 50,
   "metadata": {},
   "outputs": [],
   "source": [
    "def check_duplicates_among_job_roles(df):\n",
    "    li_job_roles = df['job_roles'].unique()\n",
    "    for i in range(len(li_job_roles)):\n",
    "        j = i + 1\n",
    "        data1 = df['desc'][df['job_roles']==li_job_roles[i]]\n",
    "        for j in range(j,len(li_job_roles),1):\n",
    "            data2 = df['desc'][df['job_roles']==li_job_roles[j]]\n",
    "            data = pd.concat([data1,data2])\n",
    "            dup_sum = data.duplicated().sum()\n",
    "            if dup_sum > 0:\n",
    "                print(f'Number of duplicate values between {li_job_roles[i]} and {li_job_roles[j]} is/are : {dup_sum}')\n"
   ]
  },
  {
   "cell_type": "code",
   "execution_count": 54,
   "metadata": {},
   "outputs": [],
   "source": [
    "def main(json_file_path):\n",
    "    \n",
    "    df = read_data(json_file_path)\n",
    "    df['job_roles'] = df['job_roles'].apply(lambda x : extract_job(x))\n",
    "    check_duplicates_in_job_role(df)\n",
    "    df.drop_duplicates(subset='desc', keep='first', inplace=True)\n",
    "    check_duplicates_among_job_roles(df)\n",
    "    return df"
   ]
  },
  {
   "cell_type": "code",
   "execution_count": 55,
   "metadata": {},
   "outputs": [
    {
     "name": "stdout",
     "output_type": "stream",
     "text": [
      "Job role : Service Technician has more than 40% duplicate values, total : 75, duplicated : 39 \n",
      "Job role : Taxi Driver has more than 40% duplicate values, total : 9, duplicated : 3 \n"
     ]
    }
   ],
   "source": [
    "json_file_path = '/home/user/py/pipeline_job_role/data/transportation_dec_06.json'\n",
    "df_1 = main(json_file_path)"
   ]
  },
  {
   "cell_type": "code",
   "execution_count": 56,
   "metadata": {},
   "outputs": [
    {
     "name": "stdout",
     "output_type": "stream",
     "text": [
      "Job role : Service Technician has more than 40% duplicate values, total : 76, duplicated : 35 \n"
     ]
    }
   ],
   "source": [
    "json_file_path = '/home/user/py/pipeline_job_role/data/transportation_dec_07.json'\n",
    "df_2 = main(json_file_path)"
   ]
  },
  {
   "cell_type": "code",
   "execution_count": 57,
   "metadata": {},
   "outputs": [
    {
     "data": {
      "text/plain": [
       "40"
      ]
     },
     "execution_count": 57,
     "metadata": {},
     "output_type": "execute_result"
    }
   ],
   "source": [
    "li_jobs_1 = df_1['job_roles'].unique()\n",
    "len(li_jobs_1)"
   ]
  },
  {
   "cell_type": "code",
   "execution_count": 58,
   "metadata": {},
   "outputs": [
    {
     "data": {
      "text/plain": [
       "40"
      ]
     },
     "execution_count": 58,
     "metadata": {},
     "output_type": "execute_result"
    }
   ],
   "source": [
    "li_jobs_2 = df_1['job_roles'].unique()\n",
    "len(li_jobs_2)"
   ]
  },
  {
   "cell_type": "code",
   "execution_count": 62,
   "metadata": {},
   "outputs": [
    {
     "name": "stdout",
     "output_type": "stream",
     "text": [
      " Number of duplicate values for Railcar Switcher between df_1(8) and df_2(32) is/are : 4\n",
      " Number of duplicate values for Motor Vehicle Emissions Inspector between df_1(26) and df_2(10) is/are : 10\n",
      " Number of duplicate values for Service Technician between df_1(36) and df_2(39) is/are : 23\n",
      " Number of duplicate values for Airline Pilot between df_1(8) and df_2(14) is/are : 1\n",
      " Number of duplicate values for Automotive Master Mechanic between df_1(20) and df_2(2) is/are : 1\n",
      " Number of duplicate values for Aviation Inspector between df_1(6) and df_2(15) is/are : 3\n",
      " Number of duplicate values for Bus Driver between df_1(6) and df_2(10) is/are : 5\n",
      " Number of duplicate values for Captain between df_1(42) and df_2(2) is/are : 2\n",
      " Number of duplicate values for Dispatcher between df_1(8) and df_2(8) is/are : 5\n",
      " Number of duplicate values for Repairer between df_1(1) and df_2(8) is/are : 1\n",
      " Number of duplicate values for Truck Driver between df_1(8) and df_2(24) is/are : 8\n",
      " Number of duplicate values for Tractor Operator between df_1(32) and df_2(12) is/are : 9\n",
      " Number of duplicate values for Machine Operator between df_1(10) and df_2(19) is/are : 6\n",
      " Number of duplicate values for Locomotive Engineer between df_1(10) and df_2(40) is/are : 7\n",
      " Number of duplicate values for Motor Vehicle Operator between df_1(5) and df_2(6) is/are : 3\n",
      " Number of duplicate values for Packer between df_1(36) and df_2(18) is/are : 5\n",
      " Number of duplicate values for Rail Car Repairer between df_1(20) and df_2(10) is/are : 10\n",
      " Number of duplicate values for Ship and Boat Captain between df_1(9) and df_2(10) is/are : 8\n",
      " Number of duplicate values for Ship Engineer between df_1(2) and df_2(28) is/are : 1\n",
      " Number of duplicate values for Ship Loader between df_1(17) and df_2(8) is/are : 7\n",
      " Number of duplicate values for Traffic Technician between df_1(29) and df_2(36) is/are : 22\n",
      " Number of duplicate values for Transportation Manager between df_1(36) and df_2(15) is/are : 13\n"
     ]
    }
   ],
   "source": [
    "for i in range(len(li_jobs_1)):\n",
    "    data1 = df_1['desc'][df_1['job_roles']==li_jobs_1[i]]\n",
    "    data2 = df_2['desc'][df_2['job_roles']==li_jobs_1[i]]\n",
    "    data = pd.concat([data1,data2])\n",
    "    df_1_count = data1.count()\n",
    "    df_2_count = data2.count()\n",
    "    dup = data.duplicated().sum()\n",
    "    if dup > 0:\n",
    "        print(f' Number of duplicate values for {li_jobs_1[i]} between df_1({df_1_count}) and df_2({df_2_count}) is/are : {dup}')"
   ]
  },
  {
   "cell_type": "code",
   "execution_count": 64,
   "metadata": {},
   "outputs": [
    {
     "data": {
      "text/plain": [
       "(1286, 3)"
      ]
     },
     "execution_count": 64,
     "metadata": {},
     "output_type": "execute_result"
    }
   ],
   "source": [
    "from sklearn.utils import shuffle\n",
    "\n",
    "df_combined = pd.concat([df_1,df_2])\n",
    "df_combined = shuffle(df_combined).reset_index(drop=True)\n",
    "df_combined.shape"
   ]
  },
  {
   "cell_type": "code",
   "execution_count": 74,
   "metadata": {},
   "outputs": [
    {
     "data": {
      "text/html": [
       "<div>\n",
       "<style scoped>\n",
       "    .dataframe tbody tr th:only-of-type {\n",
       "        vertical-align: middle;\n",
       "    }\n",
       "\n",
       "    .dataframe tbody tr th {\n",
       "        vertical-align: top;\n",
       "    }\n",
       "\n",
       "    .dataframe thead th {\n",
       "        text-align: right;\n",
       "    }\n",
       "</style>\n",
       "<table border=\"1\" class=\"dataframe\">\n",
       "  <thead>\n",
       "    <tr style=\"text-align: right;\">\n",
       "      <th></th>\n",
       "      <th>job_roles</th>\n",
       "      <th>desc</th>\n",
       "      <th>title</th>\n",
       "      <th>clean_desc</th>\n",
       "    </tr>\n",
       "  </thead>\n",
       "  <tbody>\n",
       "    <tr>\n",
       "      <th>0</th>\n",
       "      <td>Railcar Switcher</td>\n",
       "      <td>•\\nStable work history with good references fr...</td>\n",
       "      <td>Rail Switchman / Locomotive Engineer</td>\n",
       "      <td>Stable work history good references past emplo...</td>\n",
       "    </tr>\n",
       "    <tr>\n",
       "      <th>1</th>\n",
       "      <td>Attendant</td>\n",
       "      <td>Detailed oriented and able to handle multiple ...</td>\n",
       "      <td>Housekeeping Room Attendant</td>\n",
       "      <td>Detailed oriented able handle multiple tasks H...</td>\n",
       "    </tr>\n",
       "  </tbody>\n",
       "</table>\n",
       "</div>"
      ],
      "text/plain": [
       "          job_roles                                               desc  \\\n",
       "0  Railcar Switcher  •\\nStable work history with good references fr...   \n",
       "1         Attendant  Detailed oriented and able to handle multiple ...   \n",
       "\n",
       "                                  title  \\\n",
       "0  Rail Switchman / Locomotive Engineer   \n",
       "1           Housekeeping Room Attendant   \n",
       "\n",
       "                                          clean_desc  \n",
       "0  Stable work history good references past emplo...  \n",
       "1  Detailed oriented able handle multiple tasks H...  "
      ]
     },
     "execution_count": 74,
     "metadata": {},
     "output_type": "execute_result"
    }
   ],
   "source": [
    "df_combined['clean_desc'] = df_combined['desc'].apply(lambda x: textCleaning(x))\n",
    "df_combined.head(2)"
   ]
  },
  {
   "cell_type": "code",
   "execution_count": 79,
   "metadata": {},
   "outputs": [
    {
     "data": {
      "text/plain": [
       "(1111, 4)"
      ]
     },
     "execution_count": 79,
     "metadata": {},
     "output_type": "execute_result"
    }
   ],
   "source": [
    "df_combined.drop_duplicates(subset='clean_desc', keep='first', inplace=True)\n",
    "df_combined.shape"
   ]
  },
  {
   "cell_type": "code",
   "execution_count": null,
   "metadata": {},
   "outputs": [],
   "source": [
    "import seaborn as sns\n",
    "from matplotlib import pyplot as plt\n",
    "\n",
    "plt.figure(figsize=(25,5))\n",
    "sns.countplot(df_combined['job_roles'])\n",
    "plt.xticks(rotation=90);"
   ]
  },
  {
   "cell_type": "code",
   "execution_count": 80,
   "metadata": {},
   "outputs": [],
   "source": [
    "from collections import Counter\n",
    "count = Counter(df_combined['job_roles'])\n",
    "li_job=[]\n",
    "li_value=[]\n",
    "for i in count:\n",
    "    if count[i] <= 10:\n",
    "        li_job.append(i)\n",
    "        li_value.append(count[i])"
   ]
  },
  {
   "cell_type": "code",
   "execution_count": 81,
   "metadata": {},
   "outputs": [
    {
     "data": {
      "text/html": [
       "<div>\n",
       "<style scoped>\n",
       "    .dataframe tbody tr th:only-of-type {\n",
       "        vertical-align: middle;\n",
       "    }\n",
       "\n",
       "    .dataframe tbody tr th {\n",
       "        vertical-align: top;\n",
       "    }\n",
       "\n",
       "    .dataframe thead th {\n",
       "        text-align: right;\n",
       "    }\n",
       "</style>\n",
       "<table border=\"1\" class=\"dataframe\">\n",
       "  <thead>\n",
       "    <tr style=\"text-align: right;\">\n",
       "      <th></th>\n",
       "      <th>Job_roles</th>\n",
       "      <th>Value</th>\n",
       "    </tr>\n",
       "  </thead>\n",
       "  <tbody>\n",
       "    <tr>\n",
       "      <th>0</th>\n",
       "      <td>Track Switch Repairer</td>\n",
       "      <td>7</td>\n",
       "    </tr>\n",
       "    <tr>\n",
       "      <th>1</th>\n",
       "      <td>Ship and Boat Captain</td>\n",
       "      <td>10</td>\n",
       "    </tr>\n",
       "    <tr>\n",
       "      <th>2</th>\n",
       "      <td>Operations Technologist</td>\n",
       "      <td>7</td>\n",
       "    </tr>\n",
       "    <tr>\n",
       "      <th>3</th>\n",
       "      <td>Railroad Car Inspector</td>\n",
       "      <td>10</td>\n",
       "    </tr>\n",
       "    <tr>\n",
       "      <th>4</th>\n",
       "      <td>Inventory Clerk</td>\n",
       "      <td>10</td>\n",
       "    </tr>\n",
       "  </tbody>\n",
       "</table>\n",
       "</div>"
      ],
      "text/plain": [
       "                 Job_roles  Value\n",
       "0    Track Switch Repairer      7\n",
       "1    Ship and Boat Captain     10\n",
       "2  Operations Technologist      7\n",
       "3   Railroad Car Inspector     10\n",
       "4          Inventory Clerk     10"
      ]
     },
     "execution_count": 81,
     "metadata": {},
     "output_type": "execute_result"
    }
   ],
   "source": [
    "df_less = pd.DataFrame()\n",
    "df_less['Job_roles'] = li_job\n",
    "df_less['Value'] = li_value\n",
    "df_less.head()"
   ]
  },
  {
   "cell_type": "code",
   "execution_count": 82,
   "metadata": {},
   "outputs": [],
   "source": [
    "df_combined[['job_roles','title','clean_desc']].to_csv('transport_combined_dec_07.csv', index = False)"
   ]
  },
  {
   "cell_type": "code",
   "execution_count": 83,
   "metadata": {},
   "outputs": [],
   "source": [
    "df_less.to_csv('transport_combined_dec_07_jobs_less_10.csv', index = False)"
   ]
  },
  {
   "cell_type": "code",
   "execution_count": null,
   "metadata": {},
   "outputs": [],
   "source": []
  }
 ],
 "metadata": {
  "interpreter": {
   "hash": "1448b48b023bcc9c3d4a79e814720a10ca6d4244f75e0f7ce4af58f96ba2b7d3"
  },
  "kernelspec": {
   "display_name": "Python 3.8.8 64-bit ('base': conda)",
   "language": "python",
   "name": "python3"
  },
  "language_info": {
   "codemirror_mode": {
    "name": "ipython",
    "version": 3
   },
   "file_extension": ".py",
   "mimetype": "text/x-python",
   "name": "python",
   "nbconvert_exporter": "python",
   "pygments_lexer": "ipython3",
   "version": "3.8.8"
  },
  "orig_nbformat": 4
 },
 "nbformat": 4,
 "nbformat_minor": 2
}
